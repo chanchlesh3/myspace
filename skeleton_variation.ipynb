{
 "cells": [
  {
   "cell_type": "code",
   "execution_count": 1,
   "id": "11b9a2b5-5896-4ef9-99b8-46c7a67b77b6",
   "metadata": {},
   "outputs": [],
   "source": [
    "import pandas as pd\n",
    "import matplotlib.pyplot as plt"
   ]
  },
  {
   "cell_type": "code",
   "execution_count": 2,
   "id": "68431645-307a-4c4f-874d-7133b803f7bc",
   "metadata": {},
   "outputs": [
    {
     "data": {
      "text/html": [
       "<div>\n",
       "<style scoped>\n",
       "    .dataframe tbody tr th:only-of-type {\n",
       "        vertical-align: middle;\n",
       "    }\n",
       "\n",
       "    .dataframe tbody tr th {\n",
       "        vertical-align: top;\n",
       "    }\n",
       "\n",
       "    .dataframe thead th {\n",
       "        text-align: right;\n",
       "    }\n",
       "</style>\n",
       "<table border=\"1\" class=\"dataframe\">\n",
       "  <thead>\n",
       "    <tr style=\"text-align: right;\">\n",
       "      <th></th>\n",
       "      <th>species</th>\n",
       "      <th>neck_vertebrae</th>\n",
       "    </tr>\n",
       "  </thead>\n",
       "  <tbody>\n",
       "    <tr>\n",
       "      <th>0</th>\n",
       "      <td>cinereous vulture</td>\n",
       "      <td>13</td>\n",
       "    </tr>\n",
       "    <tr>\n",
       "      <th>1</th>\n",
       "      <td>guineafowl</td>\n",
       "      <td>14</td>\n",
       "    </tr>\n",
       "    <tr>\n",
       "      <th>2</th>\n",
       "      <td>red-legged partridge</td>\n",
       "      <td>14</td>\n",
       "    </tr>\n",
       "    <tr>\n",
       "      <th>3</th>\n",
       "      <td>blue-cheeked parrot</td>\n",
       "      <td>12</td>\n",
       "    </tr>\n",
       "    <tr>\n",
       "      <th>4</th>\n",
       "      <td>northern pintail</td>\n",
       "      <td>15</td>\n",
       "    </tr>\n",
       "    <tr>\n",
       "      <th>...</th>\n",
       "      <td>...</td>\n",
       "      <td>...</td>\n",
       "    </tr>\n",
       "    <tr>\n",
       "      <th>76</th>\n",
       "      <td>barn owl</td>\n",
       "      <td>12</td>\n",
       "    </tr>\n",
       "    <tr>\n",
       "      <th>77</th>\n",
       "      <td>eurasian hoopoe</td>\n",
       "      <td>13</td>\n",
       "    </tr>\n",
       "    <tr>\n",
       "      <th>78</th>\n",
       "      <td>murre</td>\n",
       "      <td>13</td>\n",
       "    </tr>\n",
       "    <tr>\n",
       "      <th>79</th>\n",
       "      <td>new zealand rockwren</td>\n",
       "      <td>13</td>\n",
       "    </tr>\n",
       "    <tr>\n",
       "      <th>80</th>\n",
       "      <td>bushwren</td>\n",
       "      <td>13</td>\n",
       "    </tr>\n",
       "  </tbody>\n",
       "</table>\n",
       "<p>81 rows × 2 columns</p>\n",
       "</div>"
      ],
      "text/plain": [
       "                 species  neck_vertebrae\n",
       "0      cinereous vulture              13\n",
       "1             guineafowl              14\n",
       "2   red-legged partridge              14\n",
       "3    blue-cheeked parrot              12\n",
       "4       northern pintail              15\n",
       "..                   ...             ...\n",
       "76              barn owl              12\n",
       "77       eurasian hoopoe              13\n",
       "78                 murre              13\n",
       "79  new zealand rockwren              13\n",
       "80              bushwren              13\n",
       "\n",
       "[81 rows x 2 columns]"
      ]
     },
     "execution_count": 2,
     "metadata": {},
     "output_type": "execute_result"
    }
   ],
   "source": [
    "bird_df = pd.read_csv(\"C:\\\\Users\\\\hp\\\\Downloads\\\\largest-islands-project\\\\bird-neck-bones.csv\")\n",
    "bird_df"
   ]
  },
  {
   "cell_type": "code",
   "execution_count": 3,
   "id": "c6a182c3-5622-4a55-a33e-97fd2c95ee34",
   "metadata": {},
   "outputs": [
    {
     "data": {
      "text/html": [
       "<div>\n",
       "<style scoped>\n",
       "    .dataframe tbody tr th:only-of-type {\n",
       "        vertical-align: middle;\n",
       "    }\n",
       "\n",
       "    .dataframe tbody tr th {\n",
       "        vertical-align: top;\n",
       "    }\n",
       "\n",
       "    .dataframe thead th {\n",
       "        text-align: right;\n",
       "    }\n",
       "</style>\n",
       "<table border=\"1\" class=\"dataframe\">\n",
       "  <thead>\n",
       "    <tr style=\"text-align: right;\">\n",
       "      <th></th>\n",
       "      <th>species</th>\n",
       "      <th>neck_vertebrae</th>\n",
       "    </tr>\n",
       "  </thead>\n",
       "  <tbody>\n",
       "    <tr>\n",
       "      <th>0</th>\n",
       "      <td>cinereous vulture</td>\n",
       "      <td>13</td>\n",
       "    </tr>\n",
       "    <tr>\n",
       "      <th>1</th>\n",
       "      <td>guineafowl</td>\n",
       "      <td>14</td>\n",
       "    </tr>\n",
       "    <tr>\n",
       "      <th>2</th>\n",
       "      <td>red-legged partridge</td>\n",
       "      <td>14</td>\n",
       "    </tr>\n",
       "    <tr>\n",
       "      <th>3</th>\n",
       "      <td>blue-cheeked parrot</td>\n",
       "      <td>12</td>\n",
       "    </tr>\n",
       "    <tr>\n",
       "      <th>4</th>\n",
       "      <td>northern pintail</td>\n",
       "      <td>15</td>\n",
       "    </tr>\n",
       "  </tbody>\n",
       "</table>\n",
       "</div>"
      ],
      "text/plain": [
       "                species  neck_vertebrae\n",
       "0     cinereous vulture              13\n",
       "1            guineafowl              14\n",
       "2  red-legged partridge              14\n",
       "3   blue-cheeked parrot              12\n",
       "4      northern pintail              15"
      ]
     },
     "execution_count": 3,
     "metadata": {},
     "output_type": "execute_result"
    }
   ],
   "source": [
    "bird_df.head()"
   ]
  },
  {
   "cell_type": "code",
   "execution_count": 4,
   "id": "1ee7ad81-31ea-465f-94fa-45c882737dbe",
   "metadata": {},
   "outputs": [
    {
     "data": {
      "text/plain": [
       "(81, 2)"
      ]
     },
     "execution_count": 4,
     "metadata": {},
     "output_type": "execute_result"
    }
   ],
   "source": [
    "bird_df.shape"
   ]
  },
  {
   "cell_type": "code",
   "execution_count": 5,
   "id": "b3657248-bd33-4a45-b5eb-283aebbfb312",
   "metadata": {},
   "outputs": [
    {
     "data": {
      "text/plain": [
       "81"
      ]
     },
     "execution_count": 5,
     "metadata": {},
     "output_type": "execute_result"
    }
   ],
   "source": [
    "bird_df.shape[0]"
   ]
  },
  {
   "cell_type": "code",
   "execution_count": 6,
   "id": "4e36f820-a8a2-426c-85f9-e59b7db03d8e",
   "metadata": {},
   "outputs": [
    {
     "data": {
      "text/plain": [
       "2"
      ]
     },
     "execution_count": 6,
     "metadata": {},
     "output_type": "execute_result"
    }
   ],
   "source": [
    "bird_df.shape[1]"
   ]
  },
  {
   "cell_type": "code",
   "execution_count": 9,
   "id": "0190ce2b-f78a-495a-a16b-812572b1535c",
   "metadata": {},
   "outputs": [
    {
     "name": "stdout",
     "output_type": "stream",
     "text": [
      "10\n"
     ]
    }
   ],
   "source": [
    "minimum = bird_df['neck_vertebrae'].min()#minimum number of neck vertebrae\n",
    "print(minimum)"
   ]
  },
  {
   "cell_type": "code",
   "execution_count": 10,
   "id": "2807d0ae-f2bd-4bbd-8643-d84a44581783",
   "metadata": {},
   "outputs": [
    {
     "data": {
      "text/plain": [
       "species           kiwi\n",
       "neck_vertebrae      14\n",
       "Name: 10, dtype: object"
      ]
     },
     "execution_count": 10,
     "metadata": {},
     "output_type": "execute_result"
    }
   ],
   "source": [
    "bird_df.iloc[minimum]"
   ]
  },
  {
   "cell_type": "code",
   "execution_count": 11,
   "id": "34be2b66-e12a-4775-a42a-29fbfbfefb90",
   "metadata": {},
   "outputs": [
    {
     "data": {
      "text/html": [
       "<div>\n",
       "<style scoped>\n",
       "    .dataframe tbody tr th:only-of-type {\n",
       "        vertical-align: middle;\n",
       "    }\n",
       "\n",
       "    .dataframe tbody tr th {\n",
       "        vertical-align: top;\n",
       "    }\n",
       "\n",
       "    .dataframe thead th {\n",
       "        text-align: right;\n",
       "    }\n",
       "</style>\n",
       "<table border=\"1\" class=\"dataframe\">\n",
       "  <thead>\n",
       "    <tr style=\"text-align: right;\">\n",
       "      <th></th>\n",
       "      <th>name</th>\n",
       "      <th>region</th>\n",
       "      <th>subregion</th>\n",
       "      <th>side</th>\n",
       "      <th>fused_from</th>\n",
       "    </tr>\n",
       "  </thead>\n",
       "  <tbody>\n",
       "    <tr>\n",
       "      <th>0</th>\n",
       "      <td>frontal</td>\n",
       "      <td>head</td>\n",
       "      <td>cranium</td>\n",
       "      <td>center</td>\n",
       "      <td>2</td>\n",
       "    </tr>\n",
       "    <tr>\n",
       "      <th>1</th>\n",
       "      <td>left parietal</td>\n",
       "      <td>head</td>\n",
       "      <td>cranium</td>\n",
       "      <td>left</td>\n",
       "      <td>1</td>\n",
       "    </tr>\n",
       "    <tr>\n",
       "      <th>2</th>\n",
       "      <td>right parietal</td>\n",
       "      <td>head</td>\n",
       "      <td>cranium</td>\n",
       "      <td>right</td>\n",
       "      <td>1</td>\n",
       "    </tr>\n",
       "    <tr>\n",
       "      <th>3</th>\n",
       "      <td>left temporal</td>\n",
       "      <td>head</td>\n",
       "      <td>cranium</td>\n",
       "      <td>left</td>\n",
       "      <td>1</td>\n",
       "    </tr>\n",
       "    <tr>\n",
       "      <th>4</th>\n",
       "      <td>right temporal</td>\n",
       "      <td>head</td>\n",
       "      <td>cranium</td>\n",
       "      <td>right</td>\n",
       "      <td>1</td>\n",
       "    </tr>\n",
       "    <tr>\n",
       "      <th>...</th>\n",
       "      <td>...</td>\n",
       "      <td>...</td>\n",
       "      <td>...</td>\n",
       "      <td>...</td>\n",
       "      <td>...</td>\n",
       "    </tr>\n",
       "    <tr>\n",
       "      <th>201</th>\n",
       "      <td>right distal pedal phalanx 1</td>\n",
       "      <td>foot</td>\n",
       "      <td>toes</td>\n",
       "      <td>right</td>\n",
       "      <td>1</td>\n",
       "    </tr>\n",
       "    <tr>\n",
       "      <th>202</th>\n",
       "      <td>right distal pedal phalanx 2</td>\n",
       "      <td>foot</td>\n",
       "      <td>toes</td>\n",
       "      <td>right</td>\n",
       "      <td>1</td>\n",
       "    </tr>\n",
       "    <tr>\n",
       "      <th>203</th>\n",
       "      <td>right distal pedal phalanx 3</td>\n",
       "      <td>foot</td>\n",
       "      <td>toes</td>\n",
       "      <td>right</td>\n",
       "      <td>1</td>\n",
       "    </tr>\n",
       "    <tr>\n",
       "      <th>204</th>\n",
       "      <td>right distal pedal phalanx 4</td>\n",
       "      <td>foot</td>\n",
       "      <td>toes</td>\n",
       "      <td>right</td>\n",
       "      <td>1</td>\n",
       "    </tr>\n",
       "    <tr>\n",
       "      <th>205</th>\n",
       "      <td>right distal pedal phalanx 5</td>\n",
       "      <td>foot</td>\n",
       "      <td>toes</td>\n",
       "      <td>right</td>\n",
       "      <td>1</td>\n",
       "    </tr>\n",
       "  </tbody>\n",
       "</table>\n",
       "<p>206 rows × 5 columns</p>\n",
       "</div>"
      ],
      "text/plain": [
       "                             name region subregion    side  fused_from\n",
       "0                         frontal   head   cranium  center           2\n",
       "1                   left parietal   head   cranium    left           1\n",
       "2                  right parietal   head   cranium   right           1\n",
       "3                   left temporal   head   cranium    left           1\n",
       "4                  right temporal   head   cranium   right           1\n",
       "..                            ...    ...       ...     ...         ...\n",
       "201  right distal pedal phalanx 1   foot      toes   right           1\n",
       "202  right distal pedal phalanx 2   foot      toes   right           1\n",
       "203  right distal pedal phalanx 3   foot      toes   right           1\n",
       "204  right distal pedal phalanx 4   foot      toes   right           1\n",
       "205  right distal pedal phalanx 5   foot      toes   right           1\n",
       "\n",
       "[206 rows x 5 columns]"
      ]
     },
     "execution_count": 11,
     "metadata": {},
     "output_type": "execute_result"
    }
   ],
   "source": [
    "human_df = pd.read_csv(\"C:\\\\Users\\\\hp\\\\Downloads\\\\largest-islands-project\\\\adult-human-skeleton.csv\")\n",
    "human_df"
   ]
  },
  {
   "cell_type": "code",
   "execution_count": 12,
   "id": "ed8d6aa1-d10c-49cf-b9c6-88d195e83ee0",
   "metadata": {},
   "outputs": [
    {
     "data": {
      "text/plain": [
       "206"
      ]
     },
     "execution_count": 12,
     "metadata": {},
     "output_type": "execute_result"
    }
   ],
   "source": [
    "human_df.shape[0]#total number of bones "
   ]
  },
  {
   "cell_type": "code",
   "execution_count": 14,
   "id": "0a74bff9-0ddb-40ec-be53-6b4fb5911ff9",
   "metadata": {},
   "outputs": [
    {
     "data": {
      "text/html": [
       "<div>\n",
       "<style scoped>\n",
       "    .dataframe tbody tr th:only-of-type {\n",
       "        vertical-align: middle;\n",
       "    }\n",
       "\n",
       "    .dataframe tbody tr th {\n",
       "        vertical-align: top;\n",
       "    }\n",
       "\n",
       "    .dataframe thead th {\n",
       "        text-align: right;\n",
       "    }\n",
       "</style>\n",
       "<table border=\"1\" class=\"dataframe\">\n",
       "  <thead>\n",
       "    <tr style=\"text-align: right;\">\n",
       "      <th></th>\n",
       "      <th>name</th>\n",
       "      <th>region</th>\n",
       "      <th>subregion</th>\n",
       "      <th>side</th>\n",
       "      <th>fused_from</th>\n",
       "    </tr>\n",
       "  </thead>\n",
       "  <tbody>\n",
       "    <tr>\n",
       "      <th>86</th>\n",
       "      <td>left humerus</td>\n",
       "      <td>arm</td>\n",
       "      <td>upper-arm</td>\n",
       "      <td>left</td>\n",
       "      <td>3</td>\n",
       "    </tr>\n",
       "    <tr>\n",
       "      <th>87</th>\n",
       "      <td>right humerus</td>\n",
       "      <td>arm</td>\n",
       "      <td>upper-arm</td>\n",
       "      <td>right</td>\n",
       "      <td>3</td>\n",
       "    </tr>\n",
       "    <tr>\n",
       "      <th>88</th>\n",
       "      <td>left radius</td>\n",
       "      <td>arm</td>\n",
       "      <td>lower-arm</td>\n",
       "      <td>left</td>\n",
       "      <td>2</td>\n",
       "    </tr>\n",
       "    <tr>\n",
       "      <th>89</th>\n",
       "      <td>right radius</td>\n",
       "      <td>arm</td>\n",
       "      <td>lower-arm</td>\n",
       "      <td>right</td>\n",
       "      <td>2</td>\n",
       "    </tr>\n",
       "    <tr>\n",
       "      <th>90</th>\n",
       "      <td>left ulna</td>\n",
       "      <td>arm</td>\n",
       "      <td>lower-arm</td>\n",
       "      <td>left</td>\n",
       "      <td>2</td>\n",
       "    </tr>\n",
       "    <tr>\n",
       "      <th>91</th>\n",
       "      <td>right ulna</td>\n",
       "      <td>arm</td>\n",
       "      <td>lower-arm</td>\n",
       "      <td>right</td>\n",
       "      <td>2</td>\n",
       "    </tr>\n",
       "  </tbody>\n",
       "</table>\n",
       "</div>"
      ],
      "text/plain": [
       "             name region  subregion   side  fused_from\n",
       "86   left humerus    arm  upper-arm   left           3\n",
       "87  right humerus    arm  upper-arm  right           3\n",
       "88    left radius    arm  lower-arm   left           2\n",
       "89   right radius    arm  lower-arm  right           2\n",
       "90      left ulna    arm  lower-arm   left           2\n",
       "91     right ulna    arm  lower-arm  right           2"
      ]
     },
     "execution_count": 14,
     "metadata": {},
     "output_type": "execute_result"
    }
   ],
   "source": [
    "arm_region = human_df.query('region == \"arm\"')\n",
    "arm_region"
   ]
  },
  {
   "cell_type": "code",
   "execution_count": 15,
   "id": "5ecc2d70-e02d-4c75-a447-54bb5ac7f071",
   "metadata": {},
   "outputs": [
    {
     "data": {
      "text/plain": [
       "6"
      ]
     },
     "execution_count": 15,
     "metadata": {},
     "output_type": "execute_result"
    }
   ],
   "source": [
    "arm_region.shape[0]"
   ]
  },
  {
   "cell_type": "code",
   "execution_count": 16,
   "id": "9b89585b-beaf-41f3-a471-b721e33a45db",
   "metadata": {},
   "outputs": [
    {
     "data": {
      "text/html": [
       "<div>\n",
       "<style scoped>\n",
       "    .dataframe tbody tr th:only-of-type {\n",
       "        vertical-align: middle;\n",
       "    }\n",
       "\n",
       "    .dataframe tbody tr th {\n",
       "        vertical-align: top;\n",
       "    }\n",
       "\n",
       "    .dataframe thead th {\n",
       "        text-align: right;\n",
       "    }\n",
       "</style>\n",
       "<table border=\"1\" class=\"dataframe\">\n",
       "  <thead>\n",
       "    <tr style=\"text-align: right;\">\n",
       "      <th></th>\n",
       "      <th>name</th>\n",
       "      <th>region</th>\n",
       "      <th>subregion</th>\n",
       "      <th>side</th>\n",
       "      <th>fused_from</th>\n",
       "    </tr>\n",
       "  </thead>\n",
       "  <tbody>\n",
       "    <tr>\n",
       "      <th>146</th>\n",
       "      <td>left femur</td>\n",
       "      <td>leg</td>\n",
       "      <td>upper-leg</td>\n",
       "      <td>left</td>\n",
       "      <td>3</td>\n",
       "    </tr>\n",
       "    <tr>\n",
       "      <th>147</th>\n",
       "      <td>right femur</td>\n",
       "      <td>leg</td>\n",
       "      <td>upper-leg</td>\n",
       "      <td>right</td>\n",
       "      <td>3</td>\n",
       "    </tr>\n",
       "    <tr>\n",
       "      <th>148</th>\n",
       "      <td>left patella</td>\n",
       "      <td>leg</td>\n",
       "      <td>knee</td>\n",
       "      <td>left</td>\n",
       "      <td>1</td>\n",
       "    </tr>\n",
       "    <tr>\n",
       "      <th>149</th>\n",
       "      <td>right patella</td>\n",
       "      <td>leg</td>\n",
       "      <td>knee</td>\n",
       "      <td>right</td>\n",
       "      <td>1</td>\n",
       "    </tr>\n",
       "    <tr>\n",
       "      <th>150</th>\n",
       "      <td>left tibia</td>\n",
       "      <td>leg</td>\n",
       "      <td>lower-leg</td>\n",
       "      <td>left</td>\n",
       "      <td>2</td>\n",
       "    </tr>\n",
       "    <tr>\n",
       "      <th>151</th>\n",
       "      <td>right tibia</td>\n",
       "      <td>leg</td>\n",
       "      <td>lower-leg</td>\n",
       "      <td>right</td>\n",
       "      <td>2</td>\n",
       "    </tr>\n",
       "    <tr>\n",
       "      <th>152</th>\n",
       "      <td>left fibula</td>\n",
       "      <td>leg</td>\n",
       "      <td>lower-leg</td>\n",
       "      <td>left</td>\n",
       "      <td>2</td>\n",
       "    </tr>\n",
       "    <tr>\n",
       "      <th>153</th>\n",
       "      <td>right fibula</td>\n",
       "      <td>leg</td>\n",
       "      <td>lower-leg</td>\n",
       "      <td>right</td>\n",
       "      <td>2</td>\n",
       "    </tr>\n",
       "  </tbody>\n",
       "</table>\n",
       "</div>"
      ],
      "text/plain": [
       "              name region  subregion   side  fused_from\n",
       "146     left femur    leg  upper-leg   left           3\n",
       "147    right femur    leg  upper-leg  right           3\n",
       "148   left patella    leg       knee   left           1\n",
       "149  right patella    leg       knee  right           1\n",
       "150     left tibia    leg  lower-leg   left           2\n",
       "151    right tibia    leg  lower-leg  right           2\n",
       "152    left fibula    leg  lower-leg   left           2\n",
       "153   right fibula    leg  lower-leg  right           2"
      ]
     },
     "execution_count": 16,
     "metadata": {},
     "output_type": "execute_result"
    }
   ],
   "source": [
    "leg_region = human_df.query('region == \"leg\"')\n",
    "leg_region"
   ]
  },
  {
   "cell_type": "code",
   "execution_count": 18,
   "id": "d9622892-c9d9-4dfc-8bd3-40eaa3f22f54",
   "metadata": {},
   "outputs": [
    {
     "data": {
      "text/plain": [
       "146       left femur\n",
       "147      right femur\n",
       "148     left patella\n",
       "149    right patella\n",
       "150       left tibia\n",
       "151      right tibia\n",
       "152      left fibula\n",
       "153     right fibula\n",
       "Name: name, dtype: object"
      ]
     },
     "execution_count": 18,
     "metadata": {},
     "output_type": "execute_result"
    }
   ],
   "source": [
    "leg_region.shape[0]\n",
    "lego = leg_region['name']\n",
    "lego"
   ]
  },
  {
   "cell_type": "code",
   "execution_count": 19,
   "id": "e2a355e7-a88b-4e4e-bab7-94a21960c2f4",
   "metadata": {},
   "outputs": [
    {
     "name": "stdout",
     "output_type": "stream",
     "text": [
      "Number of ribs in human: 24\n"
     ]
    }
   ],
   "source": [
    "#number of ribs\n",
    "rib_df = human_df[human_df['name'].str.contains(\"rib\",case = False)]\n",
    "num_ribs = rib_df.shape[0]\n",
    "print(\"Number of ribs in human:\",num_ribs)"
   ]
  },
  {
   "cell_type": "code",
   "execution_count": null,
   "id": "4a332e00-8749-42d1-a439-1b7f07b970de",
   "metadata": {},
   "outputs": [],
   "source": []
  }
 ],
 "metadata": {
  "kernelspec": {
   "display_name": "Python 3 (ipykernel)",
   "language": "python",
   "name": "python3"
  },
  "language_info": {
   "codemirror_mode": {
    "name": "ipython",
    "version": 3
   },
   "file_extension": ".py",
   "mimetype": "text/x-python",
   "name": "python",
   "nbconvert_exporter": "python",
   "pygments_lexer": "ipython3",
   "version": "3.13.2"
  }
 },
 "nbformat": 4,
 "nbformat_minor": 5
}
